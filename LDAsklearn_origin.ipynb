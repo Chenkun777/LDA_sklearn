{
 "cells": [
  {
   "cell_type": "markdown",
   "metadata": {},
   "source": [
    "# sklearn-LDA"
   ]
  },
  {
   "cell_type": "markdown",
   "metadata": {},
   "source": [
    "代码示例：https://mp.weixin.qq.com/s/hMcJtB3Lss1NBalXRTGZlQ （玉树芝兰） <br>\n",
    "可视化：https://blog.csdn.net/qq_39496504/article/details/107125284  <br>\n",
    "sklearn lda参数解读:https://scikit-learn.org/stable/modules/generated/sklearn.decomposition.LatentDirichletAllocation.html\n",
    "<br>中文版参数解读：https://blog.csdn.net/TiffanyRabbit/article/details/76445909\n",
    "<br>LDA原理-视频版：https://www.bilibili.com/video/BV1t54y127U8\n",
    "<br>LDA原理-文字版：https://www.jianshu.com/p/5c510694c07e\n",
    "<br>score的计算方法：https://github.com/scikit-learn/scikit-learn/blob/844b4be24d20fc42cc13b957374c718956a0db39/sklearn/decomposition/_lda.py#L729\n",
    "<br>主题困惑度1：https://blog.csdn.net/weixin_43343486/article/details/109255165\n",
    "<br>主题困惑度2：https://blog.csdn.net/weixin_39676021/article/details/112187210"
   ]
  },
  {
   "cell_type": "markdown",
   "metadata": {},
   "source": [
    "## 1.预处理"
   ]
  },
  {
   "cell_type": "code",
   "execution_count": 1,
   "metadata": {},
   "outputs": [],
   "source": [
    "import os\n",
    "import pandas as pd\n",
    "import re\n",
    "import jieba\n",
    "import jieba.posseg as psg"
   ]
  },
  {
   "cell_type": "markdown",
   "metadata": {},
   "source": [
    "## 你是"
   ]
  },
  {
   "cell_type": "code",
   "execution_count": 2,
   "metadata": {},
   "outputs": [],
   "source": [
    "output_path = 'F:/pycode/jupyterCode/LDA代码/LDA/result'\n",
    "file_path = 'F:/pycode/jupyterCode/LDA代码/LDA/data'\n",
    "os.chdir(file_path)\n",
    "data=pd.read_excel(\"F:/pycode/jupyterCode/LDA代码/数字图书馆语义分析.xlsx\")#content type\n",
    "os.chdir(output_path)\n",
    "dic_file = \"F:/pycode/jupyterCode/LDA代码/LDA/stop_dic/dict.txt\"\n",
    "stop_file = \"F:/pycode/jupyterCode/LDA代码/LDA/stop_dic/stopwords.txt\""
   ]
  },
  {
   "cell_type": "code",
   "execution_count": 3,
   "metadata": {},
   "outputs": [],
   "source": [
    "def chinese_word_cut(mytext):\n",
    "    jieba.load_userdict(dic_file)\n",
    "    jieba.initialize()\n",
    "    try:\n",
    "        stopword_list = open(stop_file,encoding ='utf-8')\n",
    "    except:\n",
    "        stopword_list = []\n",
    "        print(\"error in stop_file\")\n",
    "    stop_list = []\n",
    "    flag_list = ['n','nz','vn']\n",
    "    for line in stopword_list:\n",
    "        line = re.sub(u'\\n|\\\\r', '', line)\n",
    "        stop_list.append(line)\n",
    "    \n",
    "    word_list = []\n",
    "    #jieba分词\n",
    "    seg_list = psg.cut(mytext)\n",
    "    for seg_word in seg_list:\n",
    "        word = re.sub(u'[^\\u4e00-\\u9fa5]','',seg_word.word)\n",
    "        #word = seg_word.word  #如果想要分析英语文本，注释这行代码，启动下行代码\n",
    "        find = 0\n",
    "        for stop_word in stop_list:\n",
    "            if stop_word == word or len(word)<2:     #this word is stopword\n",
    "                    find = 1\n",
    "                    break\n",
    "        if find == 0 and seg_word.flag in flag_list:\n",
    "            word_list.append(word)      \n",
    "    return (\" \").join(word_list)"
   ]
  },
  {
   "cell_type": "code",
   "execution_count": 4,
   "metadata": {},
   "outputs": [
    {
     "name": "stderr",
     "output_type": "stream",
     "text": [
      "Building prefix dict from the default dictionary ...\n",
      "Loading model from cache C:\\Users\\dell\\AppData\\Local\\Temp\\jieba.cache\n",
      "Loading model cost 0.742 seconds.\n",
      "Prefix dict has been built successfully.\n"
     ]
    }
   ],
   "source": [
    "data[\"content_cutted\"] = data.content.apply(chinese_word_cut)"
   ]
  },
  {
   "cell_type": "markdown",
   "metadata": {},
   "source": [
    "## 2.LDA分析"
   ]
  },
  {
   "cell_type": "code",
   "execution_count": 5,
   "metadata": {},
   "outputs": [],
   "source": [
    "from sklearn.feature_extraction.text import TfidfVectorizer, CountVectorizer\n",
    "from sklearn.decomposition import LatentDirichletAllocation\n",
    "from sklearn.model_selection import GridSearchCV"
   ]
  },
  {
   "cell_type": "code",
   "execution_count": 6,
   "metadata": {},
   "outputs": [],
   "source": [
    "def print_top_words(model, feature_names, n_top_words):\n",
    "    tword = []\n",
    "    for topic_idx, topic in enumerate(model.components_):\n",
    "        print(\"Topic #%d:\" % topic_idx)\n",
    "        topic_w = \" \".join([feature_names[i] for i in topic.argsort()[:-n_top_words - 1:-1]])\n",
    "        tword.append(topic_w)\n",
    "        print(topic_w)\n",
    "    return tword"
   ]
  },
  {
   "cell_type": "code",
   "execution_count": 7,
   "metadata": {},
   "outputs": [],
   "source": [
    "n_features = 100 #提取100个特征词语\n",
    "tf_vectorizer = CountVectorizer(strip_accents = 'unicode',\n",
    "                                max_features=n_features,\n",
    "                                stop_words='english',\n",
    "                                max_df = 0.5,\n",
    "                                min_df = 10)\n",
    "tf = tf_vectorizer.fit_transform(data.content_cutted)"
   ]
  },
  {
   "cell_type": "code",
   "execution_count": 31,
   "metadata": {},
   "outputs": [
    {
     "name": "stderr",
     "output_type": "stream",
     "text": [
      "F:\\anacondaset\\lib\\site-packages\\ipykernel\\ipkernel.py:287: DeprecationWarning: `should_run_async` will not call `transform_cell` automatically in the future. Please pass the result to `transformed_cell` argument and any exception that happen during thetransform in `preprocessing_exc_tuple` in IPython 7.17 and above.\n",
      "  and should_run_async(code)\n"
     ]
    },
    {
     "data": {
      "text/html": [
       "<style>#sk-container-id-6 {color: black;background-color: white;}#sk-container-id-6 pre{padding: 0;}#sk-container-id-6 div.sk-toggleable {background-color: white;}#sk-container-id-6 label.sk-toggleable__label {cursor: pointer;display: block;width: 100%;margin-bottom: 0;padding: 0.3em;box-sizing: border-box;text-align: center;}#sk-container-id-6 label.sk-toggleable__label-arrow:before {content: \"▸\";float: left;margin-right: 0.25em;color: #696969;}#sk-container-id-6 label.sk-toggleable__label-arrow:hover:before {color: black;}#sk-container-id-6 div.sk-estimator:hover label.sk-toggleable__label-arrow:before {color: black;}#sk-container-id-6 div.sk-toggleable__content {max-height: 0;max-width: 0;overflow: hidden;text-align: left;background-color: #f0f8ff;}#sk-container-id-6 div.sk-toggleable__content pre {margin: 0.2em;color: black;border-radius: 0.25em;background-color: #f0f8ff;}#sk-container-id-6 input.sk-toggleable__control:checked~div.sk-toggleable__content {max-height: 200px;max-width: 100%;overflow: auto;}#sk-container-id-6 input.sk-toggleable__control:checked~label.sk-toggleable__label-arrow:before {content: \"▾\";}#sk-container-id-6 div.sk-estimator input.sk-toggleable__control:checked~label.sk-toggleable__label {background-color: #d4ebff;}#sk-container-id-6 div.sk-label input.sk-toggleable__control:checked~label.sk-toggleable__label {background-color: #d4ebff;}#sk-container-id-6 input.sk-hidden--visually {border: 0;clip: rect(1px 1px 1px 1px);clip: rect(1px, 1px, 1px, 1px);height: 1px;margin: -1px;overflow: hidden;padding: 0;position: absolute;width: 1px;}#sk-container-id-6 div.sk-estimator {font-family: monospace;background-color: #f0f8ff;border: 1px dotted black;border-radius: 0.25em;box-sizing: border-box;margin-bottom: 0.5em;}#sk-container-id-6 div.sk-estimator:hover {background-color: #d4ebff;}#sk-container-id-6 div.sk-parallel-item::after {content: \"\";width: 100%;border-bottom: 1px solid gray;flex-grow: 1;}#sk-container-id-6 div.sk-label:hover label.sk-toggleable__label {background-color: #d4ebff;}#sk-container-id-6 div.sk-serial::before {content: \"\";position: absolute;border-left: 1px solid gray;box-sizing: border-box;top: 0;bottom: 0;left: 50%;z-index: 0;}#sk-container-id-6 div.sk-serial {display: flex;flex-direction: column;align-items: center;background-color: white;padding-right: 0.2em;padding-left: 0.2em;position: relative;}#sk-container-id-6 div.sk-item {position: relative;z-index: 1;}#sk-container-id-6 div.sk-parallel {display: flex;align-items: stretch;justify-content: center;background-color: white;position: relative;}#sk-container-id-6 div.sk-item::before, #sk-container-id-6 div.sk-parallel-item::before {content: \"\";position: absolute;border-left: 1px solid gray;box-sizing: border-box;top: 0;bottom: 0;left: 50%;z-index: -1;}#sk-container-id-6 div.sk-parallel-item {display: flex;flex-direction: column;z-index: 1;position: relative;background-color: white;}#sk-container-id-6 div.sk-parallel-item:first-child::after {align-self: flex-end;width: 50%;}#sk-container-id-6 div.sk-parallel-item:last-child::after {align-self: flex-start;width: 50%;}#sk-container-id-6 div.sk-parallel-item:only-child::after {width: 0;}#sk-container-id-6 div.sk-dashed-wrapped {border: 1px dashed gray;margin: 0 0.4em 0.5em 0.4em;box-sizing: border-box;padding-bottom: 0.4em;background-color: white;}#sk-container-id-6 div.sk-label label {font-family: monospace;font-weight: bold;display: inline-block;line-height: 1.2em;}#sk-container-id-6 div.sk-label-container {text-align: center;}#sk-container-id-6 div.sk-container {/* jupyter's `normalize.less` sets `[hidden] { display: none; }` but bootstrap.min.css set `[hidden] { display: none !important; }` so we also need the `!important` here to be able to override the default hidden behavior on the sphinx rendered scikit-learn.org. See: https://github.com/scikit-learn/scikit-learn/issues/21755 */display: inline-block !important;position: relative;}#sk-container-id-6 div.sk-text-repr-fallback {display: none;}</style><div id=\"sk-container-id-6\" class=\"sk-top-container\"><div class=\"sk-text-repr-fallback\"><pre>LatentDirichletAllocation(learning_offset=50, max_iter=50, n_components=7,\n",
       "                          random_state=0)</pre><b>In a Jupyter environment, please rerun this cell to show the HTML representation or trust the notebook. <br />On GitHub, the HTML representation is unable to render, please try loading this page with nbviewer.org.</b></div><div class=\"sk-container\" hidden><div class=\"sk-item\"><div class=\"sk-estimator sk-toggleable\"><input class=\"sk-toggleable__control sk-hidden--visually\" id=\"sk-estimator-id-6\" type=\"checkbox\" checked><label for=\"sk-estimator-id-6\" class=\"sk-toggleable__label sk-toggleable__label-arrow\">LatentDirichletAllocation</label><div class=\"sk-toggleable__content\"><pre>LatentDirichletAllocation(learning_offset=50, max_iter=50, n_components=7,\n",
       "                          random_state=0)</pre></div></div></div></div></div>"
      ],
      "text/plain": [
       "LatentDirichletAllocation(learning_offset=50, max_iter=50, n_components=7,\n",
       "                          random_state=0)"
      ]
     },
     "execution_count": 31,
     "metadata": {},
     "output_type": "execute_result"
    }
   ],
   "source": [
    "n_topics = 7\n",
    "lda = LatentDirichletAllocation(n_components=n_topics, max_iter=50,\n",
    "                                learning_method='batch',\n",
    "                                learning_offset=50,\n",
    "#                                 doc_topic_prior=0.1,\n",
    "#                                 topic_word_prior=0.01,\n",
    "                               random_state=0)\n",
    "lda.fit(tf)"
   ]
  },
  {
   "cell_type": "markdown",
   "metadata": {},
   "source": [
    "### 2.1输出每个主题对应词语 "
   ]
  },
  {
   "cell_type": "code",
   "execution_count": 32,
   "metadata": {},
   "outputs": [
    {
     "name": "stdout",
     "output_type": "stream",
     "text": [
      "Topic #0:\n",
      "系统 融合 设计 方法 驱动 体系 基础 优化 数字 技术 关系 层面 文章 意义 理论 功能 路径 环境 用户 框架 概念 价值 本体 智能 目的\n",
      "Topic #1:\n",
      "本体 图像 领域 图书 信息 利用 技术 文献 内容 建设 检索 热点 发展 现状 数据库 学者 工作 用户 角度 时间 重点 关键词 方法 策略 文章\n",
      "Topic #2:\n",
      "模型 检索 信息检索 概念 资源整合 本体 文章 过程 系统 优化 用户 技术 算法 现状 框架 领域 图书 功能 模式 核心 策略 数据库 情况 实验 基础\n",
      "Topic #3:\n",
      "信息 用户 技术 发展 内容 时代 方式 网络 互联网 平台 模式 传统 个性化 检索 建设 管理 能力 挑战 海量 设计 传播 智能 满足用户 利用 背景\n",
      "Topic #4:\n",
      "文献 方法 视觉 检索 用户 主题 技术 模型 个性化 信息 过程 实验 目的 特征 结论 结果表明 关键词 时代 理论 网络 概念 能力 满足用户 意义 方式\n",
      "Topic #5:\n",
      "方法 学术 评价 质量 主题 领域 学科 关键词 热点 文献 发展 文本 模型 结论 意义 内容 过程 目的 信息 可视化 核心 利用 网络 理论 科研\n",
      "Topic #6:\n",
      "数字 文化 机构 建设 发展 技术 工作 领域 模式 数字化 理论 内容 背景 结构 因素 方法 重点 影响 方式 利用 文献 现状 管理 概念 科研\n"
     ]
    },
    {
     "name": "stderr",
     "output_type": "stream",
     "text": [
      "F:\\anacondaset\\lib\\site-packages\\ipykernel\\ipkernel.py:287: DeprecationWarning: `should_run_async` will not call `transform_cell` automatically in the future. Please pass the result to `transformed_cell` argument and any exception that happen during thetransform in `preprocessing_exc_tuple` in IPython 7.17 and above.\n",
      "  and should_run_async(code)\n",
      "F:\\anacondaset\\lib\\site-packages\\sklearn\\utils\\deprecation.py:87: FutureWarning: Function get_feature_names is deprecated; get_feature_names is deprecated in 1.0 and will be removed in 1.2. Please use get_feature_names_out instead.\n",
      "  warnings.warn(msg, category=FutureWarning)\n"
     ]
    }
   ],
   "source": [
    "n_top_words = 25\n",
    "tf_feature_names = tf_vectorizer.get_feature_names()\n",
    "topic_word = print_top_words(lda, tf_feature_names, n_top_words)"
   ]
  },
  {
   "cell_type": "markdown",
   "metadata": {},
   "source": [
    "### 2.2输出每篇文章对应主题 "
   ]
  },
  {
   "cell_type": "code",
   "execution_count": 33,
   "metadata": {},
   "outputs": [
    {
     "name": "stderr",
     "output_type": "stream",
     "text": [
      "F:\\anacondaset\\lib\\site-packages\\ipykernel\\ipkernel.py:287: DeprecationWarning: `should_run_async` will not call `transform_cell` automatically in the future. Please pass the result to `transformed_cell` argument and any exception that happen during thetransform in `preprocessing_exc_tuple` in IPython 7.17 and above.\n",
      "  and should_run_async(code)\n"
     ]
    }
   ],
   "source": [
    "import numpy as np"
   ]
  },
  {
   "cell_type": "code",
   "execution_count": 34,
   "metadata": {},
   "outputs": [
    {
     "name": "stderr",
     "output_type": "stream",
     "text": [
      "F:\\anacondaset\\lib\\site-packages\\ipykernel\\ipkernel.py:287: DeprecationWarning: `should_run_async` will not call `transform_cell` automatically in the future. Please pass the result to `transformed_cell` argument and any exception that happen during thetransform in `preprocessing_exc_tuple` in IPython 7.17 and above.\n",
      "  and should_run_async(code)\n"
     ]
    }
   ],
   "source": [
    "topics=lda.transform(tf)"
   ]
  },
  {
   "cell_type": "code",
   "execution_count": 35,
   "metadata": {},
   "outputs": [
    {
     "name": "stderr",
     "output_type": "stream",
     "text": [
      "F:\\anacondaset\\lib\\site-packages\\ipykernel\\ipkernel.py:287: DeprecationWarning: `should_run_async` will not call `transform_cell` automatically in the future. Please pass the result to `transformed_cell` argument and any exception that happen during thetransform in `preprocessing_exc_tuple` in IPython 7.17 and above.\n",
      "  and should_run_async(code)\n"
     ]
    }
   ],
   "source": [
    "topic = []\n",
    "for t in topics:\n",
    "    topic.append(\"Topic #\"+str(list(t).index(np.max(t))))\n",
    "data['概率最大的主题序号']=topic\n",
    "data['每个主题对应概率']=list(topics)\n",
    "data.to_excel(\"data_topic1.xlsx\",index=False)"
   ]
  },
  {
   "cell_type": "markdown",
   "metadata": {},
   "source": [
    "### 2.3可视化 "
   ]
  },
  {
   "cell_type": "code",
   "execution_count": 36,
   "metadata": {
    "scrolled": true
   },
   "outputs": [
    {
     "name": "stderr",
     "output_type": "stream",
     "text": [
      "F:\\anacondaset\\lib\\site-packages\\ipykernel\\ipkernel.py:287: DeprecationWarning: `should_run_async` will not call `transform_cell` automatically in the future. Please pass the result to `transformed_cell` argument and any exception that happen during thetransform in `preprocessing_exc_tuple` in IPython 7.17 and above.\n",
      "  and should_run_async(code)\n"
     ]
    }
   ],
   "source": [
    "import pyLDAvis\n",
    "import pyLDAvis.sklearn"
   ]
  },
  {
   "cell_type": "code",
   "execution_count": 37,
   "metadata": {},
   "outputs": [
    {
     "name": "stderr",
     "output_type": "stream",
     "text": [
      "F:\\anacondaset\\lib\\site-packages\\ipykernel\\ipkernel.py:287: DeprecationWarning: `should_run_async` will not call `transform_cell` automatically in the future. Please pass the result to `transformed_cell` argument and any exception that happen during thetransform in `preprocessing_exc_tuple` in IPython 7.17 and above.\n",
      "  and should_run_async(code)\n"
     ]
    },
    {
     "data": {
      "text/html": [
       "\n",
       "<link rel=\"stylesheet\" type=\"text/css\" href=\"https://cdn.jsdelivr.net/gh/bmabey/pyLDAvis@3.3.1/pyLDAvis/js/ldavis.v1.0.0.css\">\n",
       "\n",
       "\n",
       "<div id=\"ldavis_el888821651696090724522683119\"></div>\n",
       "<script type=\"text/javascript\">\n",
       "\n",
       "var ldavis_el888821651696090724522683119_data = {\"mdsDat\": {\"x\": [0.08532085517487392, -0.003413343122529061, -0.03986033991804132, 0.28553305146516705, -0.13390718075258526, 0.023332888477824755, -0.21700593132471005], \"y\": [-0.13601580639453764, 0.07287011413268514, 0.2489965562132974, -0.005733694187793929, 0.045246537201358336, -0.08084612676702368, -0.1445175801979855], \"topics\": [1, 2, 3, 4, 5, 6, 7], \"cluster\": [1, 1, 1, 1, 1, 1, 1], \"Freq\": [22.303815135465413, 16.856012450241884, 15.533262353334406, 12.276832217645794, 11.762927649675035, 10.677917695806578, 10.58923249783089]}, \"tinfo\": {\"Term\": [\"\\u6570\\u5b57\", \"\\u6a21\\u578b\", \"\\u68c0\\u7d22\", \"\\u4fe1\\u606f\", \"\\u672c\\u4f53\", \"\\u56fe\\u50cf\", \"\\u89c6\\u89c9\", \"\\u6587\\u5316\", \"\\u673a\\u6784\", \"\\u6587\\u732e\", \"\\u65b9\\u6cd5\", \"\\u7cfb\\u7edf\", \"\\u4fe1\\u606f\\u68c0\\u7d22\", \"\\u7528\\u6237\", \"\\u5b66\\u672f\", \"\\u5efa\\u8bbe\", \"\\u8bc4\\u4ef7\", \"\\u4e3b\\u9898\", \"\\u878d\\u5408\", \"\\u9886\\u57df\", \"\\u8d28\\u91cf\", \"\\u8bbe\\u8ba1\", \"\\u5b66\\u79d1\", \"\\u56fe\\u4e66\", \"\\u70ed\\u70b9\", \"\\u53d1\\u5c55\", \"\\u4f18\\u5316\", \"\\u9a71\\u52a8\", \"\\u6982\\u5ff5\", \"\\u4f53\\u7cfb\", \"\\u4e92\\u8054\\u7f51\", \"\\u6311\\u6218\", \"\\u4f20\\u64ad\", \"\\u6d77\\u91cf\", \"\\u4fe1\\u606f\", \"\\u65f6\\u4ee3\", \"\\u80fd\\u529b\", \"\\u65b9\\u5f0f\", \"\\u7528\\u6237\", \"\\u5e73\\u53f0\", \"\\u7f51\\u7edc\", \"\\u4f20\\u7edf\", \"\\u6ee1\\u8db3\\u7528\\u6237\", \"\\u667a\\u80fd\", \"\\u4e2a\\u6027\\u5316\", \"\\u7ba1\\u7406\", \"\\u5f62\\u5f0f\", \"\\u6a21\\u5f0f\", \"\\u5185\\u5bb9\", \"\\u80cc\\u666f\", \"\\u53d1\\u5c55\", \"\\u6280\\u672f\", \"\\u7efc\\u5408\", \"\\u5efa\\u8bbe\", \"\\u8bbe\\u8ba1\", \"\\u5f71\\u54cd\", \"\\u4ef7\\u503c\", \"\\u89d2\\u5ea6\", \"\\u6846\\u67b6\", \"\\u5229\\u7528\", \"\\u878d\\u5408\", \"\\u68c0\\u7d22\", \"\\u9a71\\u52a8\", \"\\u4f53\\u7cfb\", \"\\u8def\\u5f84\", \"\\u7cfb\\u7edf\", \"\\u5c42\\u9762\", \"\\u878d\\u5408\", \"\\u8bbe\\u8ba1\", \"\\u5173\\u7cfb\", \"\\u7a0b\\u5ea6\", \"\\u529f\\u80fd\", \"\\u4f18\\u5316\", \"\\u57fa\\u7840\", \"\\u89c6\\u89d2\", \"\\u6548\\u7387\", \"\\u4ef7\\u503c\", \"\\u73af\\u5883\", \"\\u667a\\u80fd\", \"\\u6570\\u5b57\\u5316\", \"\\u610f\\u4e49\", \"\\u5bf9\\u8c61\", \"\\u56e0\\u7d20\", \"\\u6587\\u7ae0\", \"\\u6846\\u67b6\", \"\\u7279\\u5f81\", \"\\u7efc\\u5408\", \"\\u7406\\u8bba\", \"\\u7b56\\u7565\", \"\\u6982\\u5ff5\", \"\\u76ee\\u7684\", \"\\u7ed3\\u8bba\", \"\\u65b9\\u6cd5\", \"\\u4f20\\u7edf\", \"\\u6280\\u672f\", \"\\u6570\\u5b57\", \"\\u7528\\u6237\", \"\\u672c\\u4f53\", \"\\u5b66\\u79d1\", \"\\u5b66\\u672f\", \"\\u8bc4\\u4ef7\", \"\\u8d28\\u91cf\", \"\\u4e3b\\u9898\", \"\\u5173\\u952e\\u8bcd\", \"\\u6587\\u672c\", \"\\u70ed\\u70b9\", \"\\u79d1\\u7814\", \"\\u65f6\\u95f4\", \"\\u6838\\u5fc3\", \"\\u7ed3\\u8bba\", \"\\u53ef\\u89c6\\u5316\", \"\\u5b66\\u8005\", \"\\u610f\\u4e49\", \"\\u76ee\\u7684\", \"\\u73af\\u5883\", \"\\u7a0b\\u5ea6\", \"\\u89c6\\u89d2\", \"\\u9886\\u57df\", \"\\u65b9\\u6cd5\", \"\\u5f62\\u5f0f\", \"\\u60c5\\u51b5\", \"\\u5b9e\\u9a8c\", \"\\u8fc7\\u7a0b\", \"\\u7f51\\u7edc\", \"\\u6548\\u7387\", \"\\u5e73\\u53f0\", \"\\u7406\\u8bba\", \"\\u4ef7\\u503c\", \"\\u5229\\u7528\", \"\\u6587\\u732e\", \"\\u53d1\\u5c55\", \"\\u5185\\u5bb9\", \"\\u6a21\\u578b\", \"\\u57fa\\u7840\", \"\\u4fe1\\u606f\", \"\\u6587\\u5316\", \"\\u673a\\u6784\", \"\\u6570\\u5b57\", \"\\u7ed3\\u6784\", \"\\u56e0\\u7d20\", \"\\u5de5\\u4f5c\", \"\\u6570\\u5b57\\u5316\", \"\\u5efa\\u8bbe\", \"\\u80cc\\u666f\", \"\\u5f71\\u54cd\", \"\\u91cd\\u70b9\", \"\\u6a21\\u5f0f\", \"\\u73b0\\u72b6\", \"\\u7406\\u8bba\", \"\\u79d1\\u7814\", \"\\u53d1\\u5c55\", \"\\u6548\\u7387\", \"\\u7ba1\\u7406\", \"\\u9886\\u57df\", \"\\u65b9\\u5f0f\", \"\\u6280\\u672f\", \"\\u6982\\u5ff5\", \"\\u5185\\u5bb9\", \"\\u5229\\u7528\", \"\\u6587\\u672c\", \"\\u9a71\\u52a8\", \"\\u57fa\\u7840\", \"\\u5c42\\u9762\", \"\\u8fc7\\u7a0b\", \"\\u6587\\u732e\", \"\\u65b9\\u6cd5\", \"\\u89c6\\u89c9\", \"\\u6587\\u732e\", \"\\u7ed3\\u679c\\u8868\\u660e\", \"\\u5b9e\\u9a8c\", \"\\u65b9\\u6cd5\", \"\\u68c0\\u7d22\", \"\\u4e3b\\u9898\", \"\\u4e2a\\u6027\\u5316\", \"\\u80fd\\u529b\", \"\\u7279\\u5f81\", \"\\u7ed3\\u6784\", \"\\u6ee1\\u8db3\\u7528\\u6237\", \"\\u7b97\\u6cd5\", \"\\u76ee\\u7684\", \"\\u8fc7\\u7a0b\", \"\\u7ed3\\u8bba\", \"\\u5bf9\\u8c61\", \"\\u5173\\u7cfb\", \"\\u5173\\u952e\\u8bcd\", \"\\u7528\\u6237\", \"\\u610f\\u4e49\", \"\\u6982\\u5ff5\", \"\\u6d77\\u91cf\", \"\\u65f6\\u4ee3\", \"\\u7406\\u8bba\", \"\\u7f51\\u7edc\", \"\\u5de5\\u4f5c\", \"\\u91cd\\u70b9\", \"\\u5b66\\u8005\", \"\\u6a21\\u578b\", \"\\u6280\\u672f\", \"\\u65b9\\u5f0f\", \"\\u4fe1\\u606f\", \"\\u6587\\u7ae0\", \"\\u9886\\u57df\", \"\\u56fe\\u50cf\", \"\\u672c\\u4f53\", \"\\u56fe\\u4e66\", \"\\u6570\\u636e\\u5e93\", \"\\u89d2\\u5ea6\", \"\\u5b66\\u8005\", \"\\u65f6\\u95f4\", \"\\u70ed\\u70b9\", \"\\u73b0\\u72b6\", \"\\u5229\\u7528\", \"\\u9886\\u57df\", \"\\u7b56\\u7565\", \"\\u60c5\\u51b5\", \"\\u5de5\\u4f5c\", \"\\u91cd\\u70b9\", \"\\u7efc\\u5408\", \"\\u5efa\\u8bbe\", \"\\u6587\\u672c\", \"\\u5185\\u5bb9\", \"\\u5173\\u952e\\u8bcd\", \"\\u6587\\u732e\", \"\\u6280\\u672f\", \"\\u53ef\\u89c6\\u5316\", \"\\u6587\\u7ae0\", \"\\u7ed3\\u679c\\u8868\\u660e\", \"\\u53d1\\u5c55\", \"\\u4fe1\\u606f\", \"\\u73af\\u5883\", \"\\u65f6\\u4ee3\", \"\\u529f\\u80fd\", \"\\u65b9\\u5f0f\", \"\\u68c0\\u7d22\", \"\\u7528\\u6237\", \"\\u65b9\\u6cd5\", \"\\u4fe1\\u606f\\u68c0\\u7d22\", \"\\u6a21\\u578b\", \"\\u8d44\\u6e90\\u6574\\u5408\", \"\\u7b97\\u6cd5\", \"\\u68c0\\u7d22\", \"\\u6982\\u5ff5\", \"\\u73b0\\u72b6\", \"\\u7b56\\u7565\", \"\\u6587\\u7ae0\", \"\\u4f18\\u5316\", \"\\u529f\\u80fd\", \"\\u6838\\u5fc3\", \"\\u60c5\\u51b5\", \"\\u6846\\u67b6\", \"\\u8fc7\\u7a0b\", \"\\u6570\\u636e\\u5e93\", \"\\u56fe\\u4e66\", \"\\u5b9e\\u9a8c\", \"\\u7cfb\\u7edf\", \"\\u672c\\u4f53\", \"\\u6a21\\u5f0f\", \"\\u4f53\\u7cfb\", \"\\u7ed3\\u6784\", \"\\u7ed3\\u679c\\u8868\\u660e\", \"\\u57fa\\u7840\", \"\\u9886\\u57df\", \"\\u5bf9\\u8c61\", \"\\u6280\\u672f\", \"\\u7528\\u6237\", \"\\u5de5\\u4f5c\", \"\\u7406\\u8bba\", \"\\u5185\\u5bb9\", \"\\u65b9\\u6cd5\"], \"Freq\": [127.0, 104.0, 136.0, 199.0, 79.0, 54.0, 49.0, 44.0, 42.0, 89.0, 127.0, 71.0, 33.0, 133.0, 39.0, 53.0, 38.0, 39.0, 43.0, 75.0, 37.0, 41.0, 25.0, 35.0, 27.0, 85.0, 32.0, 24.0, 35.0, 23.0, 22.53044654843804, 12.794436362899296, 11.81963704693063, 12.79193628905723, 157.81233598181836, 29.33228657909247, 12.976847636705035, 29.201424393390774, 85.35795774953117, 20.241829380015513, 23.458793983639474, 18.599831039827396, 10.868633059443466, 11.555774755570749, 18.2407224911164, 14.273208558591216, 7.71506784029958, 19.262676048150322, 31.36251439289495, 9.987720176500504, 37.967096826690366, 46.016496349509154, 4.3159797261917365, 17.052072389345156, 12.766182726221988, 5.331690528702869, 6.018720821661742, 3.5239771011988203, 6.968535816816452, 10.84773570107589, 8.316592003341471, 17.188702882537534, 21.192899197113455, 19.852058249768113, 11.615208542226448, 55.2909619976381, 14.043231560824172, 32.945949467618995, 28.262066345250926, 14.816922055396978, 7.473046408661397, 12.591210918500634, 17.573691325796453, 18.427674390999766, 7.834914508659695, 5.390220663744464, 10.20149386478503, 11.068769686389542, 9.122033499626484, 8.587384552458595, 13.435658633064742, 6.724314852338573, 5.903553696637796, 13.611595413711004, 10.449661701102535, 8.77831012721496, 4.360116492018446, 13.420334627065735, 4.223087705730112, 10.249384216672185, 9.039087416399232, 7.247226903526034, 24.921571540313156, 7.965324498235559, 15.970911683617087, 16.582625342739227, 10.914584907920842, 9.526113711356889, 24.5978552606209, 35.155283649055725, 31.24106149143005, 30.16367914900672, 26.208617646657654, 19.404167965203822, 14.237692575297107, 17.06678532036837, 8.956040873601895, 8.148497167090554, 9.831654660511598, 12.46365185204895, 10.861648595795002, 6.072873007369919, 12.262882771169267, 11.830036160488197, 8.27798198979421, 4.471908083325171, 5.084634911537402, 24.73400372432337, 40.86516779478545, 4.943596201663959, 4.242516193768437, 5.045783121111282, 12.159583435803224, 9.616739855130332, 2.5659566091964283, 8.037948587500042, 9.23841464088105, 4.613131692592906, 9.658552966394698, 15.035459442728898, 14.3703949265056, 12.165809433652132, 14.089067439979392, 6.384564141885152, 11.075152613146848, 43.99666761141582, 42.04563006914713, 110.29645342845019, 8.268693519539477, 7.982269097533765, 12.107341684113495, 10.113519260681676, 25.954172845533854, 9.260794683840688, 6.687598719836174, 6.820231095621894, 11.105369228126133, 5.265877496858584, 10.022279945055395, 3.663776416023129, 20.0718627724676, 2.1822663105629814, 5.2485240552072865, 11.995046803083053, 6.442117796262113, 15.803672915673893, 4.7668981393769965, 9.278484542172269, 5.926874774004888, 2.871276115759243, 2.3497538758193244, 2.7228624172191878, 1.4041533506499546, 3.3837047587450546, 5.783741123433021, 7.714225708316887, 48.19929275224442, 51.17265026758035, 5.0827632717946205, 7.078441883174823, 48.42440887503993, 46.53529360042564, 12.257563448411817, 10.837976778349377, 4.860812286527259, 5.932413246127272, 3.3952717697549173, 4.8367823758370365, 3.7551108473921047, 7.011843868696547, 9.099664916651188, 5.108593522884125, 3.0472142589703624, 4.239775407955656, 5.049674054063071, 21.886997551619196, 4.506370179968066, 4.892424271349765, 2.103903061348539, 5.034449047235872, 4.974201724687297, 4.952463633615477, 2.8873808652084447, 2.3935265704432362, 1.6551981163384148, 10.894862230686206, 11.60488451534743, 4.292923964034881, 10.313670143304359, 3.320978186520961, 3.756716879642259, 53.775446695772295, 58.28582755054523, 21.49195703042094, 6.536010623176114, 5.040346781236723, 5.540410434448415, 4.8328984463480325, 9.596939412211652, 7.05453876880606, 15.300461773973879, 24.60707483726328, 4.040071745836982, 3.532190882239499, 5.321603813920173, 4.368930034576497, 2.4290259498148656, 10.028290309220532, 3.7898891497204152, 10.905145228863427, 4.336446455670827, 11.956257910224886, 14.906418885722687, 2.9998134586965572, 3.976652977334329, 1.2248539379691974, 8.126480777991048, 18.63310132371259, 2.0892398577247477, 3.22383398562815, 1.7079025646410564, 3.501408185472869, 9.6422122248394, 5.209173231684976, 4.047215268094364, 32.18426835732809, 78.58077043404944, 13.402608671794596, 8.232589643934551, 62.71665188616775, 14.67538557247463, 7.564713392820035, 4.784051655575198, 11.399300809605096, 10.504871890838308, 6.487084746294821, 4.871699765149301, 3.7007905856125762, 7.30927002498153, 11.35642914103248, 3.9346398339095674, 6.5468018286066165, 3.382903770202252, 10.921556707314306, 11.486164902526813, 4.988252925880903, 2.7136113086786713, 1.4384121353579262, 1.0657248687278416, 3.215495127827513, 6.8094720541744795, 1.4653861916193847, 9.492896316024142, 9.825783294505628, 1.3362895265779464, 2.0046043248524663, 2.4663286039607533, 1.873399296335616], \"Total\": [127.0, 104.0, 136.0, 199.0, 79.0, 54.0, 49.0, 44.0, 42.0, 89.0, 127.0, 71.0, 33.0, 133.0, 39.0, 53.0, 38.0, 39.0, 43.0, 75.0, 37.0, 41.0, 25.0, 35.0, 27.0, 85.0, 32.0, 24.0, 35.0, 23.0, 23.36731898030703, 13.631376428592695, 12.657787296613217, 15.593019955987364, 199.73964020520108, 39.95075016906028, 18.534099283240803, 43.8555777719355, 133.47439015319233, 34.09049119511762, 39.99332982132196, 33.093519650751944, 19.492405363442707, 21.37621164438757, 35.1031501614789, 28.213844185074755, 15.612681749689814, 39.9333535447265, 69.2269655850797, 22.391383459931728, 85.7577132495698, 113.93552410442065, 11.667364193648432, 53.59231993960509, 41.72810169913698, 17.515577503478685, 21.392820623100157, 12.64934957502485, 27.196038379558527, 44.850996910234805, 43.66069844779279, 136.50083754265233, 24.240298455910935, 23.26432012221091, 14.548863606770238, 71.78016061841475, 18.443940175930376, 43.66069844779279, 41.72810169913698, 24.301358141470594, 12.64311814251349, 21.34554688050256, 32.01780332338649, 34.01488101733496, 14.598753974731812, 10.698942016466308, 21.392820623100157, 23.367028380740848, 21.37621164438757, 20.42327281384607, 32.158421312109716, 16.550343882515413, 14.585043855185377, 34.01815609220745, 27.196038379558527, 23.38708277933008, 11.667364193648432, 39.93919819504156, 13.605946174342446, 35.0035413541093, 31.22033516945484, 25.3766209490984, 127.9854216127756, 33.093519650751944, 113.93552410442065, 127.57749784033697, 133.47439015319233, 79.85716289037846, 25.434170888365813, 39.13931589410261, 38.09397602183181, 37.130786993260216, 39.16157106019606, 29.346237571885755, 22.479160359353045, 27.360196228567283, 14.661705106636761, 13.678343504618498, 16.587423023733542, 25.3766209490984, 23.397444855531013, 15.627700412276095, 32.158421312109716, 31.22033516945484, 23.367028380740848, 12.64311814251349, 14.598753974731812, 75.15068790885816, 127.9854216127756, 15.612681749689814, 13.64792993061651, 18.561746399554565, 44.85170959988579, 39.99332982132196, 10.698942016466308, 34.09049119511762, 39.93919819504156, 21.392820623100157, 44.850996910234805, 89.04932313362373, 85.7577132495698, 69.2269655850797, 104.12160936125017, 34.01488101733496, 199.73964020520108, 44.83257561066233, 42.88333702577118, 127.57749784033697, 13.660565421458795, 14.585043855185377, 23.41222773141286, 20.42327281384607, 53.59231993960509, 22.391383459931728, 17.515577503478685, 19.489336892771146, 39.9333535447265, 20.444330321775823, 39.93919819504156, 14.661705106636761, 85.7577132495698, 10.698942016466308, 28.213844185074755, 75.15068790885816, 43.8555777719355, 113.93552410442065, 35.0035413541093, 69.2269655850797, 44.850996910234805, 22.479160359353045, 24.240298455910935, 34.01488101733496, 18.443940175930376, 44.85170959988579, 89.04932313362373, 127.9854216127756, 49.03456098431939, 89.04932313362373, 10.748686962832696, 18.561746399554565, 127.9854216127756, 136.50083754265233, 39.16157106019606, 35.1031501614789, 18.534099283240803, 23.38708277933008, 13.660565421458795, 19.492405363442707, 15.598650946436603, 31.22033516945484, 44.85170959988579, 25.3766209490984, 16.550343882515413, 24.301358141470594, 29.346237571885755, 133.47439015319233, 32.158421312109716, 35.0035413541093, 15.593019955987364, 39.95075016906028, 39.93919819504156, 39.99332982132196, 23.41222773141286, 19.489336892771146, 15.627700412276095, 104.12160936125017, 113.93552410442065, 43.8555777719355, 199.73964020520108, 34.01815609220745, 75.15068790885816, 54.611276378369844, 79.85716289037846, 35.06326920789332, 15.588161983548368, 12.64934957502485, 15.627700412276095, 13.678343504618498, 27.360196228567283, 20.444330321775823, 44.850996910234805, 75.15068790885816, 13.605946174342446, 13.64792993061651, 23.41222773141286, 19.489336892771146, 11.667364193648432, 53.59231993960509, 22.479160359353045, 69.2269655850797, 29.346237571885755, 89.04932313362373, 113.93552410442065, 23.397444855531013, 34.01815609220745, 10.748686962832696, 85.7577132495698, 199.73964020520108, 23.367028380740848, 39.95075016906028, 21.34554688050256, 43.8555777719355, 136.50083754265233, 133.47439015319233, 127.9854216127756, 33.020967676274914, 104.12160936125017, 20.39931605185288, 15.598650946436603, 136.50083754265233, 35.0035413541093, 20.444330321775823, 13.605946174342446, 34.01815609220745, 32.01780332338649, 21.34554688050256, 16.587423023733542, 13.64792993061651, 27.196038379558527, 44.85170959988579, 15.588161983548368, 35.06326920789332, 18.561746399554565, 71.78016061841475, 79.85716289037846, 39.9333535447265, 23.26432012221091, 13.660565421458795, 10.748686962832696, 34.01488101733496, 75.15068790885816, 16.550343882515413, 113.93552410442065, 133.47439015319233, 23.41222773141286, 39.93919819504156, 69.2269655850797, 127.9854216127756], \"Category\": [\"Default\", \"Default\", \"Default\", \"Default\", \"Default\", \"Default\", \"Default\", \"Default\", \"Default\", \"Default\", \"Default\", \"Default\", \"Default\", \"Default\", \"Default\", \"Default\", \"Default\", \"Default\", \"Default\", \"Default\", \"Default\", \"Default\", \"Default\", \"Default\", \"Default\", \"Default\", \"Default\", \"Default\", \"Default\", \"Default\", \"Topic1\", \"Topic1\", \"Topic1\", \"Topic1\", \"Topic1\", \"Topic1\", \"Topic1\", \"Topic1\", \"Topic1\", \"Topic1\", \"Topic1\", \"Topic1\", \"Topic1\", \"Topic1\", \"Topic1\", \"Topic1\", \"Topic1\", \"Topic1\", \"Topic1\", \"Topic1\", \"Topic1\", \"Topic1\", \"Topic1\", \"Topic1\", \"Topic1\", \"Topic1\", \"Topic1\", \"Topic1\", \"Topic1\", \"Topic1\", \"Topic1\", \"Topic1\", \"Topic2\", \"Topic2\", \"Topic2\", \"Topic2\", \"Topic2\", \"Topic2\", \"Topic2\", \"Topic2\", \"Topic2\", \"Topic2\", \"Topic2\", \"Topic2\", \"Topic2\", \"Topic2\", \"Topic2\", \"Topic2\", \"Topic2\", \"Topic2\", \"Topic2\", \"Topic2\", \"Topic2\", \"Topic2\", \"Topic2\", \"Topic2\", \"Topic2\", \"Topic2\", \"Topic2\", \"Topic2\", \"Topic2\", \"Topic2\", \"Topic2\", \"Topic2\", \"Topic2\", \"Topic2\", \"Topic2\", \"Topic2\", \"Topic3\", \"Topic3\", \"Topic3\", \"Topic3\", \"Topic3\", \"Topic3\", \"Topic3\", \"Topic3\", \"Topic3\", \"Topic3\", \"Topic3\", \"Topic3\", \"Topic3\", \"Topic3\", \"Topic3\", \"Topic3\", \"Topic3\", \"Topic3\", \"Topic3\", \"Topic3\", \"Topic3\", \"Topic3\", \"Topic3\", \"Topic3\", \"Topic3\", \"Topic3\", \"Topic3\", \"Topic3\", \"Topic3\", \"Topic3\", \"Topic3\", \"Topic3\", \"Topic3\", \"Topic3\", \"Topic3\", \"Topic3\", \"Topic3\", \"Topic4\", \"Topic4\", \"Topic4\", \"Topic4\", \"Topic4\", \"Topic4\", \"Topic4\", \"Topic4\", \"Topic4\", \"Topic4\", \"Topic4\", \"Topic4\", \"Topic4\", \"Topic4\", \"Topic4\", \"Topic4\", \"Topic4\", \"Topic4\", \"Topic4\", \"Topic4\", \"Topic4\", \"Topic4\", \"Topic4\", \"Topic4\", \"Topic4\", \"Topic4\", \"Topic4\", \"Topic4\", \"Topic4\", \"Topic4\", \"Topic4\", \"Topic5\", \"Topic5\", \"Topic5\", \"Topic5\", \"Topic5\", \"Topic5\", \"Topic5\", \"Topic5\", \"Topic5\", \"Topic5\", \"Topic5\", \"Topic5\", \"Topic5\", \"Topic5\", \"Topic5\", \"Topic5\", \"Topic5\", \"Topic5\", \"Topic5\", \"Topic5\", \"Topic5\", \"Topic5\", \"Topic5\", \"Topic5\", \"Topic5\", \"Topic5\", \"Topic5\", \"Topic5\", \"Topic5\", \"Topic5\", \"Topic5\", \"Topic5\", \"Topic5\", \"Topic5\", \"Topic5\", \"Topic6\", \"Topic6\", \"Topic6\", \"Topic6\", \"Topic6\", \"Topic6\", \"Topic6\", \"Topic6\", \"Topic6\", \"Topic6\", \"Topic6\", \"Topic6\", \"Topic6\", \"Topic6\", \"Topic6\", \"Topic6\", \"Topic6\", \"Topic6\", \"Topic6\", \"Topic6\", \"Topic6\", \"Topic6\", \"Topic6\", \"Topic6\", \"Topic6\", \"Topic6\", \"Topic6\", \"Topic6\", \"Topic6\", \"Topic6\", \"Topic6\", \"Topic6\", \"Topic6\", \"Topic6\", \"Topic7\", \"Topic7\", \"Topic7\", \"Topic7\", \"Topic7\", \"Topic7\", \"Topic7\", \"Topic7\", \"Topic7\", \"Topic7\", \"Topic7\", \"Topic7\", \"Topic7\", \"Topic7\", \"Topic7\", \"Topic7\", \"Topic7\", \"Topic7\", \"Topic7\", \"Topic7\", \"Topic7\", \"Topic7\", \"Topic7\", \"Topic7\", \"Topic7\", \"Topic7\", \"Topic7\", \"Topic7\", \"Topic7\", \"Topic7\", \"Topic7\", \"Topic7\", \"Topic7\"], \"logprob\": [30.0, 29.0, 28.0, 27.0, 26.0, 25.0, 24.0, 23.0, 22.0, 21.0, 20.0, 19.0, 18.0, 17.0, 16.0, 15.0, 14.0, 13.0, 12.0, 11.0, 10.0, 9.0, 8.0, 7.0, 6.0, 5.0, 4.0, 3.0, 2.0, 1.0, -3.5461, -4.112, -4.1912, -4.1121, -1.5996, -3.2823, -4.0978, -3.2867, -2.2141, -3.6532, -3.5057, -3.7378, -4.2751, -4.2138, -3.7573, -4.0026, -4.6178, -3.7028, -3.2153, -4.3596, -3.0242, -2.832, -5.1986, -3.8247, -4.1142, -4.9873, -4.8661, -5.4014, -4.7196, -4.277, -4.5427, -3.8167, -3.3272, -3.3926, -3.9286, -2.3683, -3.7388, -2.886, -3.0394, -3.6851, -4.3696, -3.8479, -3.5145, -3.4671, -4.3223, -4.6963, -4.0584, -3.9768, -4.1702, -4.2306, -3.783, -4.4752, -4.6054, -3.77, -4.0343, -4.2086, -4.9084, -3.7841, -4.9403, -4.0537, -4.1794, -4.4003, -3.1652, -4.3058, -3.6101, -3.5726, -3.9908, -4.1269, -3.0965, -2.7394, -2.8575, -2.8925, -3.0331, -3.3337, -3.6433, -3.4621, -4.1069, -4.2014, -4.0136, -3.7764, -3.914, -4.4954, -3.7926, -3.8285, -4.1856, -4.8014, -4.673, -3.091, -2.5889, -4.7011, -4.854, -4.6806, -3.8011, -4.0357, -5.3569, -4.215, -4.0758, -4.7703, -4.0313, -3.5888, -3.634, -3.8006, -3.6538, -4.4453, -3.8945, -2.2798, -2.3252, -1.3607, -3.9514, -3.9867, -3.5701, -3.75, -2.8076, -3.8381, -4.1637, -4.144, -3.6565, -4.4027, -3.7591, -4.7654, -3.0646, -5.2836, -4.406, -3.5794, -4.2011, -3.3037, -4.5022, -3.8362, -4.2844, -5.0092, -5.2096, -5.0622, -5.7245, -4.8449, -4.3089, -4.0209, -2.1458, -2.086, -4.3953, -4.0641, -2.1412, -2.1809, -3.515, -3.6381, -4.44, -4.2407, -4.7988, -4.4449, -4.698, -4.0736, -3.8129, -4.3902, -4.9069, -4.5766, -4.4018, -2.9353, -4.5157, -4.4335, -5.2774, -4.4049, -4.4169, -4.4213, -4.9608, -5.1484, -5.5172, -3.6329, -3.5697, -4.5642, -3.6877, -4.8209, -4.6976, -1.9396, -1.859, -2.8567, -4.0471, -4.3069, -4.2123, -4.3489, -3.6629, -3.9707, -3.1965, -2.7213, -4.5281, -4.6625, -4.2526, -4.4499, -5.0369, -3.619, -4.592, -3.5351, -4.4573, -3.4431, -3.2226, -4.8258, -4.5439, -5.7216, -3.8293, -2.9994, -5.1876, -4.7538, -5.3891, -4.6712, -3.6582, -4.274, -4.5264, -2.4446, -1.5519, -3.3206, -3.8079, -1.7774, -3.2299, -3.8925, -4.3508, -3.4825, -3.5642, -4.0462, -4.3326, -4.6075, -3.9269, -3.4863, -4.5462, -4.0371, -4.6973, -3.5253, -3.4749, -4.309, -4.9178, -5.5525, -5.8524, -4.7481, -3.9977, -5.5339, -3.6655, -3.631, -5.6261, -5.2206, -5.0133, -5.2883], \"loglift\": [30.0, 29.0, 28.0, 27.0, 26.0, 25.0, 24.0, 23.0, 22.0, 21.0, 20.0, 19.0, 18.0, 17.0, 16.0, 15.0, 14.0, 13.0, 12.0, 11.0, 10.0, 9.0, 8.0, 7.0, 6.0, 5.0, 4.0, 3.0, 2.0, 1.0, 1.4639, 1.437, 1.4319, 1.3024, 1.2648, 1.1915, 1.144, 1.0937, 1.0534, 0.9791, 0.9669, 0.9242, 0.9163, 0.8853, 0.8458, 0.819, 0.7955, 0.7714, 0.7086, 0.6931, 0.6856, 0.5938, 0.5059, 0.3553, 0.316, 0.311, 0.2322, 0.2224, 0.1387, 0.081, -0.1578, -0.5717, 1.6461, 1.6218, 1.5553, 1.5195, 1.5079, 1.4989, 1.3908, 1.2857, 1.2547, 1.2526, 1.1806, 1.1675, 1.1581, 1.0949, 1.0399, 1.0333, 0.9289, 0.9141, 0.9077, 0.8798, 0.876, 0.8645, 0.824, 0.8006, 0.7962, 0.6899, 0.6105, 0.5522, 0.541, 0.5273, 0.1443, 0.3562, -0.1844, -0.2599, -0.7233, -0.3457, 1.8288, 1.7548, 1.6639, 1.6544, 1.4606, 1.4485, 1.4055, 1.3902, 1.3693, 1.3442, 1.3391, 1.1512, 1.0948, 0.917, 0.8981, 0.8918, 0.8245, 0.8229, 0.8075, 0.7509, 0.7205, 0.7122, 0.6938, 0.5596, 0.5569, 0.437, 0.4344, 0.4173, 0.3982, 0.328, 0.3267, 0.0834, 0.0758, 0.1234, -0.138, 0.1893, -1.0301, 2.0786, 2.0777, 1.9519, 1.5954, 1.4947, 1.438, 1.3947, 1.3724, 1.2146, 1.1346, 1.0475, 0.8177, 0.741, 0.7149, 0.7107, 0.6452, 0.5077, 0.4156, 0.2625, 0.1794, 0.1221, 0.1037, 0.0878, 0.0736, 0.0396, -0.2362, -0.4277, -0.4778, -0.4869, -0.6367, -0.7114, 2.123, 1.5862, 1.3913, 1.1762, 1.1683, 1.0641, 0.9787, 0.965, 0.8018, 0.7685, 0.7481, 0.7464, 0.7162, 0.6467, 0.5451, 0.5373, 0.448, 0.3942, 0.3804, 0.3322, 0.175, 0.1725, 0.1372, 0.0689, 0.0571, 0.0514, 0.0473, 0.0431, -0.1049, -0.1171, -0.144, -0.1837, -0.8233, -0.1864, -0.8557, 2.2216, 1.9221, 1.7475, 1.3678, 1.3169, 1.2, 1.1966, 1.1893, 1.173, 1.1615, 1.1205, 1.0227, 0.8853, 0.7555, 0.7416, 0.6677, 0.561, 0.4567, 0.3888, 0.3249, 0.2291, 0.2032, 0.1829, 0.0905, 0.065, -0.1194, -0.1351, -0.1775, -0.2801, -0.2886, -0.2907, -0.4132, -1.0065, -1.2169, 2.2197, 1.9639, 1.8253, 1.6062, 1.4676, 1.3761, 1.2511, 1.2001, 1.152, 1.1309, 1.0543, 1.0201, 0.9403, 0.9314, 0.8718, 0.8686, 0.5672, 0.543, 0.3625, 0.3062, 0.1652, 0.0967, -0.0056, -0.0658, -0.1135, -0.1558, -0.179, -0.2398, -0.3636, -0.618, -0.7466, -1.0893, -1.9788]}, \"token.table\": {\"Topic\": [1, 2, 5, 3, 5, 1, 1, 2, 3, 1, 2, 7, 1, 1, 2, 3, 2, 7, 1, 2, 3, 5, 6, 7, 1, 2, 5, 6, 3, 5, 6, 1, 3, 4, 5, 6, 7, 1, 2, 3, 4, 6, 2, 6, 7, 1, 2, 3, 4, 6, 1, 2, 3, 6, 2, 4, 1, 2, 5, 6, 7, 6, 1, 2, 3, 4, 6, 7, 3, 5, 3, 1, 3, 5, 6, 2, 3, 5, 6, 7, 1, 2, 3, 5, 7, 2, 3, 4, 3, 4, 5, 6, 7, 1, 2, 3, 1, 4, 6, 1, 3, 5, 6, 1, 2, 4, 6, 1, 3, 6, 7, 2, 3, 5, 6, 1, 2, 4, 5, 6, 7, 1, 2, 3, 4, 2, 4, 2, 4, 5, 2, 3, 6, 7, 4, 3, 4, 5, 6, 2, 3, 4, 5, 6, 2, 3, 5, 6, 7, 1, 4, 5, 6, 2, 3, 4, 5, 6, 7, 1, 2, 5, 6, 3, 6, 1, 2, 2, 6, 7, 4, 1, 3, 7, 1, 2, 6, 7, 1, 5, 6, 7, 2, 4, 5, 7, 3, 5, 7, 1, 4, 5, 6, 7, 1, 5, 1, 2, 5, 3, 6, 1, 2, 3, 5, 2, 3, 5, 6, 4, 6, 7, 2, 3, 4, 5, 7, 1, 2, 5, 6, 7, 1, 2, 3, 5, 3, 4, 5, 2, 3, 2, 6, 7, 3, 5, 7, 1, 2, 3, 4, 2, 3, 5, 7, 4, 5, 7, 2, 3, 5, 6, 7, 2, 3, 5, 1, 2, 6, 1, 2, 3, 5, 1, 2, 4, 1, 5, 1, 2, 3, 5, 2, 3, 5, 1, 2, 6, 1, 2, 2, 3, 2, 3, 6, 1, 2, 7, 1, 2, 1, 2, 3, 4, 5, 7, 2, 3, 4, 5, 6, 1, 3, 4, 5, 6, 7, 2, 4], \"Freq\": [0.5127744922378117, 0.1424373589549477, 0.3133621897008849, 0.6639161631190654, 0.30642284451649177, 0.9842806536506568, 0.2804679245298372, 0.46744654088306203, 0.23372327044153102, 0.09369787082828183, 0.562187224969691, 0.34355885970370004, 0.9480329949303843, 0.574130530705527, 0.24173917082337978, 0.18130437811753483, 0.8596855568930037, 0.12895283353395057, 0.7910297617322222, 0.010013034958635723, 0.05507169227249648, 0.05006517479317862, 0.09512383210703938, 0.9690812308626418, 0.12344989043556621, 0.6172494521778311, 0.1645998539140883, 0.041149963478522074, 0.6474424516416495, 0.1703795925372762, 0.13630367402982094, 0.4478023807341535, 0.173342857058382, 0.1300071427937865, 0.0433357142645955, 0.1588976189701835, 0.028890476176397, 0.24525653291532182, 0.06688814534054231, 0.22296048446847438, 0.13377629068108463, 0.3344407267027116, 0.6090263263235693, 0.09369635789593375, 0.2810890736878012, 0.443108830215813, 0.058303793449449075, 0.1632506216584574, 0.2332151737977963, 0.09328606951911853, 0.12821912899137866, 0.2564382579827573, 0.4701368063017217, 0.12821912899137866, 0.41138031942679676, 0.5485070925690624, 0.028519873434245644, 0.11407949373698258, 0.05703974686849129, 0.5989173421191585, 0.1996391140397195, 0.9888067736389338, 0.058797794970405534, 0.5291801547336498, 0.1763933849112166, 0.0881966924556083, 0.029398897485202767, 0.0881966924556083, 0.894241485842467, 0.0766492702150686, 0.9829296228970289, 0.12797788204520041, 0.38393364613560127, 0.12797788204520041, 0.38393364613560127, 0.0538742410586968, 0.269371205293484, 0.3771196874108776, 0.0538742410586968, 0.1616227231760904, 0.12084341051746345, 0.4229519368111221, 0.18126511577619517, 0.18126511577619517, 0.06042170525873172, 0.7590568970870017, 0.10843669958385739, 0.054218349791928695, 0.04271272308949358, 0.512552677073923, 0.12813816926848076, 0.2135636154474679, 0.04271272308949358, 0.586673858277066, 0.1466684645692665, 0.23466954331082637, 0.3172096303940163, 0.4851441406026131, 0.18659390023177427, 0.5124039628975938, 0.32025247681099617, 0.06405049536219923, 0.06405049536219923, 0.2854601853125867, 0.22836814825006935, 0.3996442594376214, 0.05709203706251734, 0.1465423701739107, 0.2930847403478214, 0.2930847403478214, 0.2930847403478214, 0.40424869970543803, 0.3731526458819428, 0.15548026911747617, 0.06219210764699047, 0.4037371167735316, 0.14043030148644575, 0.14043030148644575, 0.10532272611483431, 0.1316534076435429, 0.07899204458612574, 0.9536821221319703, 0.4673359283847602, 0.2804015570308561, 0.18693437135390406, 0.13325233907060532, 0.8622210175156815, 0.4406737393185289, 0.4896374881316987, 0.04896374881316987, 0.06415124509582289, 0.19245373528746867, 0.4490587156707602, 0.25660498038329155, 0.9814292264202567, 0.6227990626071108, 0.133456941987238, 0.04448564732907934, 0.17794258931631737, 0.056148658114977545, 0.16844597434493264, 0.06737838973797305, 0.572716312772771, 0.1347567794759461, 0.4115449397684134, 0.029396067126315244, 0.08818820137894573, 0.11758426850526098, 0.32335673838946766, 0.6612613827780413, 0.136812699885112, 0.09120846659007466, 0.09120846659007466, 0.195334747387389, 0.320348985715318, 0.06250711916396448, 0.37504271498378694, 0.03125355958198224, 0.01562677979099112, 0.7258937536161448, 0.050061638180423786, 0.12515409545105946, 0.07509245727063568, 0.5848661424023163, 0.36554133900144764, 0.5613716873518446, 0.42102876551388346, 0.1252235821816911, 0.7262967766538084, 0.1377459403998602, 0.9794013925446069, 0.06028663997832481, 0.6028663997832481, 0.30143319989162404, 0.2573904295289361, 0.36770061361276585, 0.07354012272255317, 0.2573904295289361, 0.12454136037581469, 0.3443202316272524, 0.07325962375047923, 0.46153562962801914, 0.2856853796259113, 0.14284268981295564, 0.14284268981295564, 0.4285280694388669, 0.13445815989481077, 0.10564569706020846, 0.7587281879778608, 0.4757927475016456, 0.2754589590799001, 0.05008344710543638, 0.07512517065815456, 0.12520861776359093, 0.8337063658414864, 0.12826251782176715, 0.5643223499050608, 0.15390609542865297, 0.2565101590477549, 0.6213405729250577, 0.3654944546617987, 0.1710345851058975, 0.38482781648826936, 0.1710345851058975, 0.25655187765884624, 0.4707487756152264, 0.34236274590198285, 0.08559068647549571, 0.08559068647549571, 0.24456658258325836, 0.3423932156165617, 0.3913065321332134, 0.3254947667330474, 0.22534253081518665, 0.25038058979465183, 0.12519029489732592, 0.05007611795893036, 0.636826284820954, 0.08241281332977052, 0.16482562665954104, 0.037460369695350236, 0.07492073939070047, 0.09609121694936579, 0.28827365084809736, 0.38436486779746315, 0.22421283954852017, 0.6138440198149985, 0.27281956436222154, 0.06820489109055539, 0.5536608865863512, 0.3163776494779149, 0.2939891095220589, 0.2939891095220589, 0.3674863869025737, 0.19232432409068861, 0.25643243212091815, 0.5128648642418363, 0.4962102969082838, 0.2481051484541419, 0.03544359263630598, 0.1772179631815299, 0.7662284331234847, 0.027862852113581263, 0.041794278170371894, 0.15324568662469695, 0.5856272967613144, 0.21961023628549292, 0.0732034120951643, 0.09303461934074794, 0.18606923868149589, 0.4651730967037397, 0.09303461934074794, 0.09303461934074794, 0.27584444808632813, 0.47287619671941966, 0.1970317486330915, 0.3428366453305324, 0.3428366453305324, 0.1714183226652662, 0.5750958998102186, 0.05000833911393205, 0.25004169556966027, 0.12502084778483014, 0.4466003638361383, 0.1339801091508415, 0.4019403274525245, 0.7014098608911126, 0.26977302341965864, 0.1832311503116696, 0.7558284950356371, 0.0458077875779174, 0.9789013919253763, 0.5479919734140848, 0.342494983383803, 0.0684989966767606, 0.31622179277088575, 0.31622179277088575, 0.3952772409636072, 0.31154065175864126, 0.6710106345570734, 0.1575052180576104, 0.8137769599643203, 0.10772731536032508, 0.8079548652024381, 0.0807954865202438, 0.19608500548902852, 0.1470637541167714, 0.6372762678393427, 0.13746778126844975, 0.8248066876106985, 0.04459138832926656, 0.15606985915243296, 0.26754832997559935, 0.06688708249389984, 0.20066124748169953, 0.24525263581096607, 0.20524043593723568, 0.05131010898430892, 0.3591707628901624, 0.10262021796861784, 0.20524043593723568, 0.039919794262407333, 0.33266495218672776, 0.15967917704962933, 0.053226392349876445, 0.33266495218672776, 0.09314618661228377, 0.8663259669923413, 0.08250723495165156], \"Term\": [\"\\u4e2a\\u6027\\u5316\", \"\\u4e2a\\u6027\\u5316\", \"\\u4e2a\\u6027\\u5316\", \"\\u4e3b\\u9898\", \"\\u4e3b\\u9898\", \"\\u4e92\\u8054\\u7f51\", \"\\u4ef7\\u503c\", \"\\u4ef7\\u503c\", \"\\u4ef7\\u503c\", \"\\u4f18\\u5316\", \"\\u4f18\\u5316\", \"\\u4f18\\u5316\", \"\\u4f20\\u64ad\", \"\\u4f20\\u7edf\", \"\\u4f20\\u7edf\", \"\\u4f20\\u7edf\", \"\\u4f53\\u7cfb\", \"\\u4f53\\u7cfb\", \"\\u4fe1\\u606f\", \"\\u4fe1\\u606f\", \"\\u4fe1\\u606f\", \"\\u4fe1\\u606f\", \"\\u4fe1\\u606f\", \"\\u4fe1\\u606f\\u68c0\\u7d22\", \"\\u5173\\u7cfb\", \"\\u5173\\u7cfb\", \"\\u5173\\u7cfb\", \"\\u5173\\u7cfb\", \"\\u5173\\u952e\\u8bcd\", \"\\u5173\\u952e\\u8bcd\", \"\\u5173\\u952e\\u8bcd\", \"\\u5185\\u5bb9\", \"\\u5185\\u5bb9\", \"\\u5185\\u5bb9\", \"\\u5185\\u5bb9\", \"\\u5185\\u5bb9\", \"\\u5185\\u5bb9\", \"\\u5229\\u7528\", \"\\u5229\\u7528\", \"\\u5229\\u7528\", \"\\u5229\\u7528\", \"\\u5229\\u7528\", \"\\u529f\\u80fd\", \"\\u529f\\u80fd\", \"\\u529f\\u80fd\", \"\\u53d1\\u5c55\", \"\\u53d1\\u5c55\", \"\\u53d1\\u5c55\", \"\\u53d1\\u5c55\", \"\\u53d1\\u5c55\", \"\\u53ef\\u89c6\\u5316\", \"\\u53ef\\u89c6\\u5316\", \"\\u53ef\\u89c6\\u5316\", \"\\u53ef\\u89c6\\u5316\", \"\\u56e0\\u7d20\", \"\\u56e0\\u7d20\", \"\\u56fe\\u4e66\", \"\\u56fe\\u4e66\", \"\\u56fe\\u4e66\", \"\\u56fe\\u4e66\", \"\\u56fe\\u4e66\", \"\\u56fe\\u50cf\", \"\\u57fa\\u7840\", \"\\u57fa\\u7840\", \"\\u57fa\\u7840\", \"\\u57fa\\u7840\", \"\\u57fa\\u7840\", \"\\u57fa\\u7840\", \"\\u5b66\\u672f\", \"\\u5b66\\u672f\", \"\\u5b66\\u79d1\", \"\\u5b66\\u8005\", \"\\u5b66\\u8005\", \"\\u5b66\\u8005\", \"\\u5b66\\u8005\", \"\\u5b9e\\u9a8c\", \"\\u5b9e\\u9a8c\", \"\\u5b9e\\u9a8c\", \"\\u5b9e\\u9a8c\", \"\\u5b9e\\u9a8c\", \"\\u5bf9\\u8c61\", \"\\u5bf9\\u8c61\", \"\\u5bf9\\u8c61\", \"\\u5bf9\\u8c61\", \"\\u5bf9\\u8c61\", \"\\u5c42\\u9762\", \"\\u5c42\\u9762\", \"\\u5c42\\u9762\", \"\\u5de5\\u4f5c\", \"\\u5de5\\u4f5c\", \"\\u5de5\\u4f5c\", \"\\u5de5\\u4f5c\", \"\\u5de5\\u4f5c\", \"\\u5e73\\u53f0\", \"\\u5e73\\u53f0\", \"\\u5e73\\u53f0\", \"\\u5efa\\u8bbe\", \"\\u5efa\\u8bbe\", \"\\u5efa\\u8bbe\", \"\\u5f62\\u5f0f\", \"\\u5f62\\u5f0f\", \"\\u5f62\\u5f0f\", \"\\u5f62\\u5f0f\", \"\\u5f71\\u54cd\", \"\\u5f71\\u54cd\", \"\\u5f71\\u54cd\", \"\\u5f71\\u54cd\", \"\\u60c5\\u51b5\", \"\\u60c5\\u51b5\", \"\\u60c5\\u51b5\", \"\\u60c5\\u51b5\", \"\\u610f\\u4e49\", \"\\u610f\\u4e49\", \"\\u610f\\u4e49\", \"\\u610f\\u4e49\", \"\\u6280\\u672f\", \"\\u6280\\u672f\", \"\\u6280\\u672f\", \"\\u6280\\u672f\", \"\\u6280\\u672f\", \"\\u6280\\u672f\", \"\\u6311\\u6218\", \"\\u6548\\u7387\", \"\\u6548\\u7387\", \"\\u6548\\u7387\", \"\\u6570\\u5b57\", \"\\u6570\\u5b57\", \"\\u6570\\u5b57\\u5316\", \"\\u6570\\u5b57\\u5316\", \"\\u6570\\u5b57\\u5316\", \"\\u6570\\u636e\\u5e93\", \"\\u6570\\u636e\\u5e93\", \"\\u6570\\u636e\\u5e93\", \"\\u6570\\u636e\\u5e93\", \"\\u6587\\u5316\", \"\\u6587\\u672c\", \"\\u6587\\u672c\", \"\\u6587\\u672c\", \"\\u6587\\u672c\", \"\\u6587\\u732e\", \"\\u6587\\u732e\", \"\\u6587\\u732e\", \"\\u6587\\u732e\", \"\\u6587\\u732e\", \"\\u6587\\u7ae0\", \"\\u6587\\u7ae0\", \"\\u6587\\u7ae0\", \"\\u6587\\u7ae0\", \"\\u6587\\u7ae0\", \"\\u65b9\\u5f0f\", \"\\u65b9\\u5f0f\", \"\\u65b9\\u5f0f\", \"\\u65b9\\u5f0f\", \"\\u65b9\\u6cd5\", \"\\u65b9\\u6cd5\", \"\\u65b9\\u6cd5\", \"\\u65b9\\u6cd5\", \"\\u65b9\\u6cd5\", \"\\u65b9\\u6cd5\", \"\\u65f6\\u4ee3\", \"\\u65f6\\u4ee3\", \"\\u65f6\\u4ee3\", \"\\u65f6\\u4ee3\", \"\\u65f6\\u95f4\", \"\\u65f6\\u95f4\", \"\\u667a\\u80fd\", \"\\u667a\\u80fd\", \"\\u672c\\u4f53\", \"\\u672c\\u4f53\", \"\\u672c\\u4f53\", \"\\u673a\\u6784\", \"\\u6838\\u5fc3\", \"\\u6838\\u5fc3\", \"\\u6838\\u5fc3\", \"\\u6846\\u67b6\", \"\\u6846\\u67b6\", \"\\u6846\\u67b6\", \"\\u6846\\u67b6\", \"\\u68c0\\u7d22\", \"\\u68c0\\u7d22\", \"\\u68c0\\u7d22\", \"\\u68c0\\u7d22\", \"\\u6982\\u5ff5\", \"\\u6982\\u5ff5\", \"\\u6982\\u5ff5\", \"\\u6982\\u5ff5\", \"\\u6a21\\u578b\", \"\\u6a21\\u578b\", \"\\u6a21\\u578b\", \"\\u6a21\\u5f0f\", \"\\u6a21\\u5f0f\", \"\\u6a21\\u5f0f\", \"\\u6a21\\u5f0f\", \"\\u6a21\\u5f0f\", \"\\u6d77\\u91cf\", \"\\u6d77\\u91cf\", \"\\u6ee1\\u8db3\\u7528\\u6237\", \"\\u6ee1\\u8db3\\u7528\\u6237\", \"\\u6ee1\\u8db3\\u7528\\u6237\", \"\\u70ed\\u70b9\", \"\\u70ed\\u70b9\", \"\\u7279\\u5f81\", \"\\u7279\\u5f81\", \"\\u7279\\u5f81\", \"\\u7279\\u5f81\", \"\\u73af\\u5883\", \"\\u73af\\u5883\", \"\\u73af\\u5883\", \"\\u73af\\u5883\", \"\\u73b0\\u72b6\", \"\\u73b0\\u72b6\", \"\\u73b0\\u72b6\", \"\\u7406\\u8bba\", \"\\u7406\\u8bba\", \"\\u7406\\u8bba\", \"\\u7406\\u8bba\", \"\\u7406\\u8bba\", \"\\u7528\\u6237\", \"\\u7528\\u6237\", \"\\u7528\\u6237\", \"\\u7528\\u6237\", \"\\u7528\\u6237\", \"\\u76ee\\u7684\", \"\\u76ee\\u7684\", \"\\u76ee\\u7684\", \"\\u76ee\\u7684\", \"\\u79d1\\u7814\", \"\\u79d1\\u7814\", \"\\u79d1\\u7814\", \"\\u7a0b\\u5ea6\", \"\\u7a0b\\u5ea6\", \"\\u7b56\\u7565\", \"\\u7b56\\u7565\", \"\\u7b56\\u7565\", \"\\u7b97\\u6cd5\", \"\\u7b97\\u6cd5\", \"\\u7b97\\u6cd5\", \"\\u7ba1\\u7406\", \"\\u7ba1\\u7406\", \"\\u7ba1\\u7406\", \"\\u7ba1\\u7406\", \"\\u7cfb\\u7edf\", \"\\u7cfb\\u7edf\", \"\\u7cfb\\u7edf\", \"\\u7cfb\\u7edf\", \"\\u7ed3\\u6784\", \"\\u7ed3\\u6784\", \"\\u7ed3\\u6784\", \"\\u7ed3\\u679c\\u8868\\u660e\", \"\\u7ed3\\u679c\\u8868\\u660e\", \"\\u7ed3\\u679c\\u8868\\u660e\", \"\\u7ed3\\u679c\\u8868\\u660e\", \"\\u7ed3\\u679c\\u8868\\u660e\", \"\\u7ed3\\u8bba\", \"\\u7ed3\\u8bba\", \"\\u7ed3\\u8bba\", \"\\u7efc\\u5408\", \"\\u7efc\\u5408\", \"\\u7efc\\u5408\", \"\\u7f51\\u7edc\", \"\\u7f51\\u7edc\", \"\\u7f51\\u7edc\", \"\\u7f51\\u7edc\", \"\\u80cc\\u666f\", \"\\u80cc\\u666f\", \"\\u80cc\\u666f\", \"\\u80fd\\u529b\", \"\\u80fd\\u529b\", \"\\u878d\\u5408\", \"\\u878d\\u5408\", \"\\u878d\\u5408\", \"\\u89c6\\u89c9\", \"\\u89c6\\u89d2\", \"\\u89c6\\u89d2\", \"\\u89c6\\u89d2\", \"\\u89d2\\u5ea6\", \"\\u89d2\\u5ea6\", \"\\u89d2\\u5ea6\", \"\\u8bbe\\u8ba1\", \"\\u8bbe\\u8ba1\", \"\\u8bc4\\u4ef7\", \"\\u8bc4\\u4ef7\", \"\\u8d28\\u91cf\", \"\\u8d28\\u91cf\", \"\\u8d28\\u91cf\", \"\\u8d44\\u6e90\\u6574\\u5408\", \"\\u8d44\\u6e90\\u6574\\u5408\", \"\\u8d44\\u6e90\\u6574\\u5408\", \"\\u8def\\u5f84\", \"\\u8def\\u5f84\", \"\\u8fc7\\u7a0b\", \"\\u8fc7\\u7a0b\", \"\\u8fc7\\u7a0b\", \"\\u8fc7\\u7a0b\", \"\\u8fc7\\u7a0b\", \"\\u8fc7\\u7a0b\", \"\\u91cd\\u70b9\", \"\\u91cd\\u70b9\", \"\\u91cd\\u70b9\", \"\\u91cd\\u70b9\", \"\\u91cd\\u70b9\", \"\\u9886\\u57df\", \"\\u9886\\u57df\", \"\\u9886\\u57df\", \"\\u9886\\u57df\", \"\\u9886\\u57df\", \"\\u9886\\u57df\", \"\\u9a71\\u52a8\", \"\\u9a71\\u52a8\"]}, \"R\": 30, \"lambda.step\": 0.01, \"plot.opts\": {\"xlab\": \"PC1\", \"ylab\": \"PC2\"}, \"topic.order\": [4, 1, 6, 7, 5, 2, 3]};\n",
       "\n",
       "function LDAvis_load_lib(url, callback){\n",
       "  var s = document.createElement('script');\n",
       "  s.src = url;\n",
       "  s.async = true;\n",
       "  s.onreadystatechange = s.onload = callback;\n",
       "  s.onerror = function(){console.warn(\"failed to load library \" + url);};\n",
       "  document.getElementsByTagName(\"head\")[0].appendChild(s);\n",
       "}\n",
       "\n",
       "if(typeof(LDAvis) !== \"undefined\"){\n",
       "   // already loaded: just create the visualization\n",
       "   !function(LDAvis){\n",
       "       new LDAvis(\"#\" + \"ldavis_el888821651696090724522683119\", ldavis_el888821651696090724522683119_data);\n",
       "   }(LDAvis);\n",
       "}else if(typeof define === \"function\" && define.amd){\n",
       "   // require.js is available: use it to load d3/LDAvis\n",
       "   require.config({paths: {d3: \"https://d3js.org/d3.v5\"}});\n",
       "   require([\"d3\"], function(d3){\n",
       "      window.d3 = d3;\n",
       "      LDAvis_load_lib(\"https://cdn.jsdelivr.net/gh/bmabey/pyLDAvis@3.3.1/pyLDAvis/js/ldavis.v3.0.0.js\", function(){\n",
       "        new LDAvis(\"#\" + \"ldavis_el888821651696090724522683119\", ldavis_el888821651696090724522683119_data);\n",
       "      });\n",
       "    });\n",
       "}else{\n",
       "    // require.js not available: dynamically load d3 & LDAvis\n",
       "    LDAvis_load_lib(\"https://d3js.org/d3.v5.js\", function(){\n",
       "         LDAvis_load_lib(\"https://cdn.jsdelivr.net/gh/bmabey/pyLDAvis@3.3.1/pyLDAvis/js/ldavis.v3.0.0.js\", function(){\n",
       "                 new LDAvis(\"#\" + \"ldavis_el888821651696090724522683119\", ldavis_el888821651696090724522683119_data);\n",
       "            })\n",
       "         });\n",
       "}\n",
       "</script>"
      ],
      "text/plain": [
       "<IPython.core.display.HTML object>"
      ]
     },
     "execution_count": 37,
     "metadata": {},
     "output_type": "execute_result"
    }
   ],
   "source": [
    "pyLDAvis.enable_notebook()\n",
    "pic = pyLDAvis.sklearn.prepare(lda, tf, tf_vectorizer)\n",
    "pyLDAvis.display(pic)\n",
    "pyLDAvis.save_html(pic, 'lda_pass'+str(n_topics)+'.html')\n",
    "pyLDAvis.display(pic)\n",
    "#去工作路径下找保存好的html文件\n",
    "#和视频里讲的不一样，目前这个代码不需要手动中断运行，可以快速出结果"
   ]
  },
  {
   "cell_type": "markdown",
   "metadata": {},
   "source": [
    "### 2.4困惑度 "
   ]
  },
  {
   "cell_type": "code",
   "execution_count": 16,
   "metadata": {},
   "outputs": [
    {
     "name": "stderr",
     "output_type": "stream",
     "text": [
      "F:\\anacondaset\\lib\\site-packages\\ipykernel\\ipkernel.py:287: DeprecationWarning: `should_run_async` will not call `transform_cell` automatically in the future. Please pass the result to `transformed_cell` argument and any exception that happen during thetransform in `preprocessing_exc_tuple` in IPython 7.17 and above.\n",
      "  and should_run_async(code)\n"
     ]
    }
   ],
   "source": [
    "import matplotlib.pyplot as plt"
   ]
  },
  {
   "cell_type": "code",
   "execution_count": 17,
   "metadata": {},
   "outputs": [
    {
     "name": "stderr",
     "output_type": "stream",
     "text": [
      "F:\\anacondaset\\lib\\site-packages\\ipykernel\\ipkernel.py:287: DeprecationWarning: `should_run_async` will not call `transform_cell` automatically in the future. Please pass the result to `transformed_cell` argument and any exception that happen during thetransform in `preprocessing_exc_tuple` in IPython 7.17 and above.\n",
      "  and should_run_async(code)\n"
     ]
    },
    {
     "name": "stdout",
     "output_type": "stream",
     "text": [
      "1\n",
      "2\n",
      "3\n",
      "4\n",
      "5\n",
      "6\n",
      "7\n",
      "8\n",
      "9\n",
      "10\n",
      "11\n",
      "12\n",
      "13\n",
      "14\n",
      "15\n"
     ]
    }
   ],
   "source": [
    "plexs = []\n",
    "scores = []\n",
    "n_max_topics = 16\n",
    "for i in range(1,n_max_topics):\n",
    "    print(i)\n",
    "    lda = LatentDirichletAllocation(n_components=i, max_iter=50,\n",
    "                                    learning_method='batch',\n",
    "                                    learning_offset=50,random_state=0)\n",
    "    lda.fit(tf)\n",
    "    plexs.append(lda.perplexity(tf))\n",
    "    scores.append(lda.score(tf))"
   ]
  },
  {
   "cell_type": "code",
   "execution_count": 18,
   "metadata": {},
   "outputs": [
    {
     "name": "stderr",
     "output_type": "stream",
     "text": [
      "F:\\anacondaset\\lib\\site-packages\\ipykernel\\ipkernel.py:287: DeprecationWarning: `should_run_async` will not call `transform_cell` automatically in the future. Please pass the result to `transformed_cell` argument and any exception that happen during thetransform in `preprocessing_exc_tuple` in IPython 7.17 and above.\n",
      "  and should_run_async(code)\n"
     ]
    },
    {
     "data": {
      "image/png": "[encoded data removed]",
      "text/plain": [
       "<Figure size 432x288 with 1 Axes>"
      ]
     },
     "metadata": {
      "needs_background": "light"
     },
     "output_type": "display_data"
    }
   ],
   "source": [
    "n_t=15#区间最右侧的值。注意：不能大于n_max_topics\n",
    "x=list(range(1,n_t+1))\n",
    "plt.plot(x,plexs[0:n_t])\n",
    "plt.xlabel(\"number of topics\")\n",
    "plt.ylabel(\"perplexity\")\n",
    "plt.show()"
   ]
  },
  {
   "cell_type": "code",
   "execution_count": null,
   "metadata": {},
   "outputs": [],
   "source": []
  }
 ],
 "metadata": {
  "kernelspec": {
   "display_name": "Python 3",
   "language": "python",
   "name": "python3"
  },
  "language_info": {
   "codemirror_mode": {
    "name": "ipython",
    "version": 3
   },
   "file_extension": ".py",
   "mimetype": "text/x-python",
   "name": "python",
   "nbconvert_exporter": "python",
   "pygments_lexer": "ipython3",
   "version": "3.8.8"
  },
  "toc": {
   "base_numbering": 1,
   "nav_menu": {},
   "number_sections": true,
   "sideBar": true,
   "skip_h1_title": false,
   "title_cell": "Table of Contents",
   "title_sidebar": "Contents",
   "toc_cell": false,
   "toc_position": {
    "height": "303.324px",
    "left": "114px",
    "top": "110.322px",
    "width": "165px"
   },
   "toc_section_display": true,
   "toc_window_display": true
  }
 },
 "nbformat": 4,
 "nbformat_minor": 4
}
